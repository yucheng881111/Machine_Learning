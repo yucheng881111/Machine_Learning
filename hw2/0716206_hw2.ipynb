{
 "cells": [
  {
   "cell_type": "markdown",
   "metadata": {},
   "source": [
    "### Name: 陳昱丞\n",
    "### Student ID: 0716206"
   ]
  },
  {
   "cell_type": "code",
   "execution_count": 40,
   "metadata": {},
   "outputs": [],
   "source": [
    "# -*- coding: utf-8 -*-\n",
    "\"\"\"\n",
    "Created on Thu Oct 15 13:59:40 2020\n",
    "\n",
    "@author: user\n",
    "\"\"\"\n",
    "\n",
    "import pandas\n",
    "import matplotlib.pyplot as plt\n",
    "import numpy as np\n",
    "from sklearn import model_selection\n",
    "from sklearn.preprocessing import LabelEncoder\n",
    "from sklearn.utils import shuffle\n",
    "from sklearn.metrics import confusion_matrix\n",
    "from sklearn import tree  \n",
    "from sklearn.neighbors import KNeighborsClassifier\n",
    "from sklearn.ensemble import RandomForestClassifier\n",
    "from matplotlib.colors import ListedColormap"
   ]
  },
  {
   "cell_type": "markdown",
   "metadata": {},
   "source": [
    "### Data input, then shuffle"
   ]
  },
  {
   "cell_type": "code",
   "execution_count": 41,
   "metadata": {},
   "outputs": [],
   "source": [
    "student = pandas.read_csv(\"student-mat.csv\",header=0,delimiter=\";\")\n",
    "\n",
    "student = shuffle(student) #shuffle data"
   ]
  },
  {
   "cell_type": "markdown",
   "metadata": {},
   "source": [
    "因為文章說G1和G2有很大的關係，捨棄他們會讓預測更有用，因此我選擇捨棄這兩個feature。\n",
    "原文:\n",
    "The target attribute G3 has a strong correlation with attributes G2 and G1. \n",
    "This occurs because G3 is the final year grade (issued at the 3rd period), \n",
    "while G1 and G2 correspond to the 1st and 2nd period grades. \n",
    "It is more difficult to predict G3 without G2 and G1, but such prediction is much more useful."
   ]
  },
  {
   "cell_type": "code",
   "execution_count": 42,
   "metadata": {},
   "outputs": [],
   "source": [
    "student = student.drop(columns=[\"G1\",\"G2\"]) #model1: 2 classes\n",
    "student2 = student #model2: 5 classes"
   ]
  },
  {
   "cell_type": "markdown",
   "metadata": {},
   "source": [
    "### Data preprocessing\n",
    "\n",
    "用G3進行題目指示的兩種分類。再用label encoder和fit transform標準化資料，再轉成np array方便處理。"
   ]
  },
  {
   "cell_type": "code",
   "execution_count": 43,
   "metadata": {},
   "outputs": [],
   "source": [
    "student_class=[]\n",
    "student2_class=[]\n",
    "for i in range(395):\n",
    "    if student.iloc[i][\"G3\"] >= 10:\n",
    "        student_class.append(1) #pass\n",
    "    else:\n",
    "        student_class.append(0) #fail\n",
    "    \n",
    "    if 0 <= student2.iloc[i][\"G3\"] <= 9:\n",
    "        student2_class.append(0) #F\n",
    "    elif 10 <= student2.iloc[i][\"G3\"] <= 11:\n",
    "        student2_class.append(1) #D\n",
    "    elif 12 <= student2.iloc[i][\"G3\"] <= 13:\n",
    "        student2_class.append(2) #C\n",
    "    elif 14 <= student2.iloc[i][\"G3\"] <= 15:\n",
    "        student2_class.append(3) #B\n",
    "    elif 16 <= student2.iloc[i][\"G3\"] <= 20:\n",
    "        student2_class.append(4) #A\n",
    "    \n",
    "student_class = np.array(student_class)\n",
    "student2_class = np.array(student2_class)\n",
    "\n",
    "for i in student.columns:\n",
    "    student[i] = LabelEncoder().fit_transform(student[i])\n",
    "stu = student.drop(columns=[\"G3\"]).columns\n",
    "student = student.drop(columns=[\"G3\"]).to_numpy()\n",
    "\n",
    "for i in student2.columns:\n",
    "    student2[i] = LabelEncoder().fit_transform(student2[i])\n",
    "stu2 = student2.drop(columns=[\"G3\"]).columns\n",
    "student2 = student2.drop(columns=[\"G3\"]).to_numpy()"
   ]
  },
  {
   "cell_type": "markdown",
   "metadata": {},
   "source": [
    "k-fold cross-validation(k=3)的函式。先寫好方便底下呼叫。"
   ]
  },
  {
   "cell_type": "code",
   "execution_count": 44,
   "metadata": {},
   "outputs": [],
   "source": [
    "def kfold_class1(model):\n",
    "    print(\"\\nk-fold class 1:\")\n",
    "    student_ascores = model_selection.cross_val_score(model, student, student_class, cv=3, scoring=\"accuracy\")\n",
    "    student_pscores = model_selection.cross_val_score(model, student, student_class, cv=3, scoring=\"precision\")\n",
    "    student_rscores = model_selection.cross_val_score(model, student, student_class, cv=3, scoring=\"recall\")\n",
    "    print(\"k_fold Accuracy:\", student_ascores.mean())\n",
    "    print(\"k_fold Precision:\", student_pscores.mean())\n",
    "    print(\"k_fold Recall:\", student_rscores.mean())\n",
    "    \n",
    "    \n",
    "def kfold_class2(model):\n",
    "    print(\"\\nk-fold class 2:\")\n",
    "    student2_ascores = model_selection.cross_val_score(model, student2, student2_class, cv=3, scoring=\"accuracy\")\n",
    "    student2_pscores = model_selection.cross_val_score(model, student2, student2_class, cv=3, scoring=\"precision_micro\")\n",
    "    student2_rscores = model_selection.cross_val_score(model, student2, student2_class, cv=3, scoring=\"recall_micro\")\n",
    "    print(\"k_fold Accuracy:\", student2_ascores.mean())\n",
    "    print(\"k_fold Precision:\", student2_pscores.mean())\n",
    "    print(\"k_fold Recall:\", student2_rscores.mean())"
   ]
  },
  {
   "cell_type": "markdown",
   "metadata": {},
   "source": [
    "### Model Construction"
   ]
  },
  {
   "cell_type": "markdown",
   "metadata": {},
   "source": [
    "Decision Tree的部分。先holdout validation把他split成7:3，再放入DecisionTreeClassifier。兩種task分開做。之後把畫好的tree存成檔案。"
   ]
  },
  {
   "cell_type": "code",
   "execution_count": 45,
   "metadata": {},
   "outputs": [
    {
     "name": "stdout",
     "output_type": "stream",
     "text": [
      "Decision Tree:\n"
     ]
    }
   ],
   "source": [
    "print(\"Decision Tree:\")\n",
    "#class 1: 2 classes\n",
    "X_train,X_test,Y_train,Y_test=model_selection.train_test_split(student,student_class,test_size=0.3) #split 7:3\n",
    "\n",
    "\n",
    "clf = tree.DecisionTreeClassifier(criterion='entropy')  \n",
    "clf = clf.fit(X_train,Y_train)\n",
    "prediction = clf.predict(X_test)\n",
    "\n",
    "# Visualize model\n",
    "with open(\"result\", 'w') as f:  \n",
    "    f = tree.export_graphviz(clf, feature_names=stu, out_file=f)\n",
    "    \n",
    "    \n",
    "#class 2: 5 classes\n",
    "X2_train,X2_test,Y2_train,Y2_test=model_selection.train_test_split(student2,student2_class,test_size=0.3) #split 7:3\n",
    "\n",
    "clf2 = tree.DecisionTreeClassifier(criterion='entropy')  \n",
    "clf2 = clf2.fit(X2_train,Y2_train)\n",
    "prediction2 = clf2.predict(X2_test)\n",
    "\n",
    "# Visualize model\n",
    "with open(\"result2\", 'w') as f:  \n",
    "    f = tree.export_graphviz(clf2, feature_names=stu2, out_file=f)"
   ]
  },
  {
   "cell_type": "markdown",
   "metadata": {},
   "source": [
    "confusion matrix呼叫套件函式、k-fold呼叫上方寫好的函式。"
   ]
  },
  {
   "cell_type": "code",
   "execution_count": 46,
   "metadata": {},
   "outputs": [
    {
     "name": "stdout",
     "output_type": "stream",
     "text": [
      "\n",
      "confusion matrix 1st(2 classes):\n",
      "[[25 15]\n",
      " [22 57]]\n",
      "\n",
      "confusion matrix 2nd(5 classes):\n",
      "[[23 12  4  3  3]\n",
      " [ 7 10  8  5  1]\n",
      " [ 8  6  5  1  0]\n",
      " [ 7  4  0  3  2]\n",
      " [ 1  2  1  2  1]]\n",
      "\n",
      "k-fold class 1:\n",
      "k_fold Accuracy: 0.6379307046241558\n",
      "k_fold Precision: 0.7163461538461539\n",
      "k_fold Recall: 0.7205907388491658\n",
      "\n",
      "k-fold class 2:\n",
      "k_fold Accuracy: 0.275797465987736\n",
      "k_fold Precision: 0.2833153667949156\n",
      "k_fold Recall: 0.2833545133989477\n"
     ]
    }
   ],
   "source": [
    "#confusion matrix class 1\n",
    "print(\"\\nconfusion matrix 1st(2 classes):\")\n",
    "print(confusion_matrix(Y_test, prediction))\n",
    "\n",
    "#confusion matrix class 2\n",
    "print(\"\\nconfusion matrix 2nd(5 classes):\")\n",
    "print(confusion_matrix(Y2_test, prediction2))\n",
    "\n",
    "#k-fold class 1\n",
    "kfold_class1(clf)\n",
    "\n",
    "#k-fold class 2\n",
    "kfold_class2(clf2)"
   ]
  },
  {
   "cell_type": "markdown",
   "metadata": {},
   "source": [
    "Random Forest的部分。一樣把資料放進函式。這裡要做3種不同的number of trees。我選n=5,10,20。"
   ]
  },
  {
   "cell_type": "code",
   "execution_count": 47,
   "metadata": {},
   "outputs": [
    {
     "name": "stdout",
     "output_type": "stream",
     "text": [
      "\n",
      "Random Forest (n=5):\n",
      "\n",
      "confusion matrix 1st(2 classes):\n",
      "[[15 25]\n",
      " [11 68]]\n",
      "\n",
      "k-fold class 1:\n",
      "k_fold Accuracy: 0.6734010599016625\n",
      "k_fold Precision: 0.732822214322392\n",
      "k_fold Recall: 0.7809839972761322\n",
      "\n",
      "confusion matrix 2nd(5 classes):\n",
      "[[28  8  5  4  0]\n",
      " [14 12  3  2  0]\n",
      " [ 6 11  1  1  1]\n",
      " [ 2  4  4  4  2]\n",
      " [ 1  3  0  2  1]]\n",
      "\n",
      "k-fold class 2:\n",
      "k_fold Accuracy: 0.31686050078439276\n",
      "k_fold Precision: 0.34433411334402564\n",
      "k_fold Recall: 0.3165151926801693\n",
      "\n",
      "Random Forest (n=10):\n",
      "\n",
      "confusion matrix 1st(2 classes):\n",
      "[[19 21]\n",
      " [18 61]]\n",
      "\n",
      "k-fold class 1:\n",
      "k_fold Accuracy: 0.6530065622070443\n",
      "k_fold Precision: 0.7162385129490393\n",
      "k_fold Recall: 0.7886448757235275\n",
      "\n",
      "confusion matrix 2nd(5 classes):\n",
      "[[28 13  1  2  1]\n",
      " [14 14  1  1  1]\n",
      " [ 8 11  0  1  0]\n",
      " [ 8  4  0  4  0]\n",
      " [ 2  3  1  0  1]]\n",
      "\n",
      "k-fold class 2:\n",
      "k_fold Accuracy: 0.3414282083417323\n",
      "k_fold Precision: 0.3217360058194056\n",
      "k_fold Recall: 0.3568323970283638\n",
      "\n",
      "Random Forest (n=20):\n",
      "\n",
      "confusion matrix 1st(2 classes):\n",
      "[[19 21]\n",
      " [14 65]]\n",
      "\n",
      "k-fold class 1:\n",
      "k_fold Accuracy: 0.6835026497541564\n",
      "k_fold Precision: 0.693312766536612\n",
      "k_fold Recall: 0.8489530132788561\n",
      "\n",
      "confusion matrix 2nd(5 classes):\n",
      "[[22 16  3  1  3]\n",
      " [ 9 14  3  5  0]\n",
      " [ 8 10  1  1  0]\n",
      " [ 6  6  1  2  1]\n",
      " [ 3  1  1  0  2]]\n",
      "\n",
      "k-fold class 2:\n",
      "k_fold Accuracy: 0.3264084743633564\n",
      "k_fold Precision: 0.3164368994721051\n",
      "k_fold Recall: 0.3548201447255794\n"
     ]
    }
   ],
   "source": [
    "print(\"\\nRandom Forest (n=5):\")\n",
    "rf = RandomForestClassifier(n_estimators=5)\n",
    "rf = rf.fit(X_train,Y_train)\n",
    "prediction_rf = rf.predict(X_test)\n",
    "print(\"\\nconfusion matrix 1st(2 classes):\")\n",
    "print(confusion_matrix(Y_test, prediction_rf))\n",
    "kfold_class1(rf)\n",
    "\n",
    "rf2 = RandomForestClassifier(n_estimators=5)\n",
    "rf2 = rf2.fit(X2_train,Y2_train)\n",
    "prediction2_rf = rf2.predict(X2_test)\n",
    "print(\"\\nconfusion matrix 2nd(5 classes):\")\n",
    "print(confusion_matrix(Y2_test, prediction2_rf))\n",
    "kfold_class2(rf2)\n",
    "\n",
    "print(\"\\nRandom Forest (n=10):\")\n",
    "rf = RandomForestClassifier(n_estimators=10)\n",
    "rf = rf.fit(X_train,Y_train)\n",
    "prediction_rf = rf.predict(X_test)\n",
    "print(\"\\nconfusion matrix 1st(2 classes):\")\n",
    "print(confusion_matrix(Y_test, prediction_rf))\n",
    "kfold_class1(rf)\n",
    "\n",
    "rf2 = RandomForestClassifier(n_estimators=10)\n",
    "rf2 = rf2.fit(X2_train,Y2_train)\n",
    "prediction2_rf = rf2.predict(X2_test)\n",
    "print(\"\\nconfusion matrix 2nd(5 classes):\")\n",
    "print(confusion_matrix(Y2_test, prediction2_rf))\n",
    "kfold_class2(rf2)\n",
    "\n",
    "print(\"\\nRandom Forest (n=20):\")\n",
    "rf = RandomForestClassifier(n_estimators=20)\n",
    "rf = rf.fit(X_train,Y_train)\n",
    "prediction_rf = rf.predict(X_test)\n",
    "print(\"\\nconfusion matrix 1st(2 classes):\")\n",
    "print(confusion_matrix(Y_test, prediction_rf))\n",
    "kfold_class1(rf)\n",
    "\n",
    "rf2 = RandomForestClassifier(n_estimators=20)\n",
    "rf2 = rf2.fit(X2_train,Y2_train)\n",
    "prediction2_rf = rf2.predict(X2_test)\n",
    "print(\"\\nconfusion matrix 2nd(5 classes):\")\n",
    "print(confusion_matrix(Y2_test, prediction2_rf))\n",
    "kfold_class2(rf2)"
   ]
  },
  {
   "cell_type": "markdown",
   "metadata": {},
   "source": [
    " Difference between K-fold cross-validation and Random Forest:\n",
    " Random Forest: 從Training set中取出n個，再從這n個樣本訓練出n個tree。每次取的n個樣本皆會再放回母體，因此這個n個樣本之間可能會有部份資料重複。最後這幾個tree再vote出最終結果。\n",
    " K-fold: 設k=3，將data set切成3份，其中2份拿來train，1份拿來做validation。train和validation的資料不會重複。之後再把validation的資料輪轉到train，這樣總共就會做3次(3份都當過train和validation)，最後再平均3次的結果。"
   ]
  },
  {
   "cell_type": "markdown",
   "metadata": {},
   "source": [
    "KNN的部分。要選3個不同的k value。我選擇k=1,3,5。"
   ]
  },
  {
   "cell_type": "code",
   "execution_count": 48,
   "metadata": {},
   "outputs": [
    {
     "name": "stdout",
     "output_type": "stream",
     "text": [
      "\n",
      "KNN (n=1):\n",
      "\n",
      "confusion matrix 1st(2 classes):\n",
      "[[13 27]\n",
      " [20 59]]\n",
      "\n",
      "k-fold class 1:\n",
      "k_fold Accuracy: 0.6176509977233159\n",
      "k_fold Precision: 0.7053260407905627\n",
      "k_fold Recall: 0.7396152536601974\n",
      "\n",
      "confusion matrix 2nd(5 classes):\n",
      "[[20 11  6  5  3]\n",
      " [ 5 15  5  3  3]\n",
      " [ 5  6  1  8  0]\n",
      " [ 4  5  4  2  1]\n",
      " [ 1  2  0  3  1]]\n",
      "\n",
      "k-fold class 2:\n",
      "k_fold Accuracy: 0.27093802858870647\n",
      "k_fold Precision: 0.27093802858870647\n",
      "k_fold Recall: 0.27093802858870647\n",
      "\n",
      "KNN (n=3):\n",
      "\n",
      "confusion matrix 1st(2 classes):\n",
      "[[16 24]\n",
      " [ 7 72]]\n",
      "\n",
      "k-fold class 1:\n",
      "k_fold Accuracy: 0.6758690619678968\n",
      "k_fold Precision: 0.7200207200207199\n",
      "k_fold Recall: 0.8490381341504937\n",
      "\n",
      "confusion matrix 2nd(5 classes):\n",
      "[[21 11  5  7  1]\n",
      " [10 16  3  2  0]\n",
      " [ 7  8  1  4  0]\n",
      " [ 3  7  1  3  2]\n",
      " [ 1  3  0  2  1]]\n",
      "\n",
      "k-fold class 2:\n",
      "k_fold Accuracy: 0.32397963208034986\n",
      "k_fold Precision: 0.32397963208034986\n",
      "k_fold Recall: 0.32397963208034986\n",
      "\n",
      "KNN (n=5):\n",
      "\n",
      "confusion matrix 1st(2 classes):\n",
      "[[11 29]\n",
      " [ 5 74]]\n",
      "\n",
      "k-fold class 1:\n",
      "k_fold Accuracy: 0.6836939677437869\n",
      "k_fold Precision: 0.7082770780018487\n",
      "k_fold Recall: 0.898280558392918\n",
      "\n",
      "confusion matrix 2nd(5 classes):\n",
      "[[22 14  1  7  1]\n",
      " [ 8 16  3  3  1]\n",
      " [ 5 10  1  4  0]\n",
      " [ 1  6  2  5  2]\n",
      " [ 1  2  1  2  1]]\n",
      "\n",
      "k-fold class 2:\n",
      "k_fold Accuracy: 0.3317289068456894\n",
      "k_fold Precision: 0.3317289068456894\n",
      "k_fold Recall: 0.3317289068456894\n"
     ]
    }
   ],
   "source": [
    "print(\"\\nKNN (n=1):\")\n",
    "knn = KNeighborsClassifier(n_neighbors=1)\n",
    "knn = knn.fit(X_train,Y_train)\n",
    "prediction_knn = knn.predict(X_test)\n",
    "print(\"\\nconfusion matrix 1st(2 classes):\")\n",
    "print(confusion_matrix(Y_test, prediction_knn))\n",
    "kfold_class1(knn)\n",
    "\n",
    "knn2 = KNeighborsClassifier(n_neighbors=1)\n",
    "knn2 = knn2.fit(X2_train,Y2_train)\n",
    "prediction2_knn = knn2.predict(X2_test)\n",
    "print(\"\\nconfusion matrix 2nd(5 classes):\")\n",
    "print(confusion_matrix(Y2_test, prediction2_knn))\n",
    "kfold_class2(knn2)\n",
    "\n",
    "print(\"\\nKNN (n=3):\")\n",
    "knn = KNeighborsClassifier(n_neighbors=3)\n",
    "knn = knn.fit(X_train,Y_train)\n",
    "prediction_knn = knn.predict(X_test)\n",
    "print(\"\\nconfusion matrix 1st(2 classes):\")\n",
    "print(confusion_matrix(Y_test, prediction_knn))\n",
    "kfold_class1(knn)\n",
    "\n",
    "knn2 = KNeighborsClassifier(n_neighbors=3)\n",
    "knn2 = knn2.fit(X2_train,Y2_train)\n",
    "prediction2_knn = knn2.predict(X2_test)\n",
    "print(\"\\nconfusion matrix 2nd(5 classes):\")\n",
    "print(confusion_matrix(Y2_test, prediction2_knn))\n",
    "kfold_class2(knn2)\n",
    "\n",
    "print(\"\\nKNN (n=5):\")\n",
    "knn = KNeighborsClassifier(n_neighbors=5)\n",
    "knn = knn.fit(X_train,Y_train)\n",
    "prediction_knn = knn.predict(X_test)\n",
    "print(\"\\nconfusion matrix 1st(2 classes):\")\n",
    "print(confusion_matrix(Y_test, prediction_knn))\n",
    "kfold_class1(knn)\n",
    "\n",
    "knn2 = KNeighborsClassifier(n_neighbors=5)\n",
    "knn2 = knn2.fit(X2_train,Y2_train)\n",
    "prediction2_knn = knn2.predict(X2_test)\n",
    "print(\"\\nconfusion matrix 2nd(5 classes):\")\n",
    "print(confusion_matrix(Y2_test, prediction2_knn))\n",
    "kfold_class2(knn2)"
   ]
  },
  {
   "cell_type": "markdown",
   "metadata": {},
   "source": [
    "### Comparison & Conclusion\n",
    "\n",
    "Decision Tree: 2-class來分類的話正確率大概70%左右；5-class大概30%。應該是因為有一些不重要的feature會干擾到預測結果，5-class時尤其明顯。\n",
    "Random Forest: n越大(tree越多)，正確率會微幅上升。2-class的上升稍微明顯一點。\n",
    "KNN: 也是k值越大，正確率微幅上升。2-class明顯。\n",
    "\n",
    "要是前面不把G1,G2 drop掉的話，整體正確率應該都會有所提升。"
   ]
  },
  {
   "cell_type": "markdown",
   "metadata": {},
   "source": [
    "### Questions"
   ]
  },
  {
   "cell_type": "markdown",
   "metadata": {},
   "source": [
    "Decision Tree:\n",
    "\n",
    "從X_test和X2_test中分別選一組sample去預測結果，如下。將資料對應到檔案(result,result2)中的decision tree圖，就能得到結果。"
   ]
  },
  {
   "cell_type": "code",
   "execution_count": 10,
   "metadata": {},
   "outputs": [
    {
     "name": "stdout",
     "output_type": "stream",
     "text": [
      "1-sample:\n",
      "[[ 0  1  0  1  1  1  4  2  4  2  0  1  0  0  0  0  0  0  0  1  1  1  0  2\n",
      "   4  1  0  0  2 10]]\n",
      "1-sample prediction:  [0]\n",
      "1-sample:\n",
      "[[0 1 1 1 0 1 0 2 2 2 2 1 0 0 0 0 0 1 0 0 1 1 0 3 2 1 1 3 4 0]]\n",
      "1-sample prediction:  [1]\n"
     ]
    }
   ],
   "source": [
    "#Questions:\n",
    "clf = tree.DecisionTreeClassifier(criterion='entropy')  \n",
    "clf = clf.fit(X_train,Y_train)\n",
    "one_sample=X_test[0].reshape(1, -1)\n",
    "print(\"1-sample (2 classes):\")\n",
    "print(one_sample)\n",
    "prediction = clf.predict(one_sample)\n",
    "print(\"1-sample prediction: \",prediction)\n",
    "\n",
    "clf2 = tree.DecisionTreeClassifier(criterion='entropy') \n",
    "clf2 = clf2.fit(X2_train,Y2_train)\n",
    "one_sample2=X2_test[0].reshape(1, -1)\n",
    "print(\"1-sample (5 classes):\")\n",
    "print(one_sample2)\n",
    "prediction2 = clf2.predict(one_sample2)\n",
    "print(\"1-sample prediction: \",prediction2)"
   ]
  },
  {
   "cell_type": "markdown",
   "metadata": {},
   "source": [
    "Random Forest:\n",
    "\n",
    "Difference between boosting and bagging:\n",
    "boosting 更強調錯誤部分的學習，將舊classifier錯誤資料權重提高，訓練出新的classifier。這樣它就會學到錯誤資料的特性，進而提升準確度。"
   ]
  },
  {
   "cell_type": "markdown",
   "metadata": {},
   "source": [
    "KNN:\n",
    "\n",
    "重新input和shuffle data。這次選兩個feature來train。我選G1,G2，因為這樣train出來的結果比較漂亮，boundaries會看得比較清楚。"
   ]
  },
  {
   "cell_type": "code",
   "execution_count": 35,
   "metadata": {},
   "outputs": [
    {
     "name": "stdout",
     "output_type": "stream",
     "text": [
      "\n",
      "KNN (n=5):\n",
      "\n",
      "confusion matrix 1st(2 classes):\n",
      "[[40  2]\n",
      " [ 5 72]]\n",
      "\n",
      "k-fold class 1:\n",
      "k_fold Accuracy: 0.8962099906254185\n",
      "k_fold Precision: 0.9309368191721132\n",
      "k_fold Recall: 0.9132618318011577\n",
      "\n",
      "confusion matrix 2nd(5 classes):\n",
      "[[34 11  0  0  0]\n",
      " [ 3 21  2  0  0]\n",
      " [ 0  5 12  0  0]\n",
      " [ 0  0  1 20  1]\n",
      " [ 0  0  0  2  7]]\n",
      "\n",
      "k-fold class 2:\n",
      "k_fold Accuracy: 0.7439108041705741\n",
      "k_fold Precision: 0.7439108041705741\n",
      "k_fold Recall: 0.7439108041705741\n"
     ]
    },
    {
     "data": {
      "image/png": "[encoded data removed]",
      "text/plain": [
       "<Figure size 432x288 with 1 Axes>"
      ]
     },
     "metadata": {
      "needs_background": "light"
     },
     "output_type": "display_data"
    },
    {
     "data": {
      "image/png": "[encoded data removed]",
      "text/plain": [
       "<Figure size 432x288 with 1 Axes>"
      ]
     },
     "metadata": {
      "needs_background": "light"
     },
     "output_type": "display_data"
    }
   ],
   "source": [
    "#data re-input\n",
    "student = pandas.read_csv(\"student-mat.csv\",header=0,delimiter=\";\")\n",
    "student = shuffle(student)\n",
    "student2 = student\n",
    "student_class=[]\n",
    "student2_class=[]\n",
    "for i in range(395):\n",
    "    if student.iloc[i][\"G3\"] < 10:\n",
    "        student_class.append(0) #fail\n",
    "    else:\n",
    "        student_class.append(1) #pass\n",
    "    \n",
    "    if 0 <= student2.iloc[i][\"G3\"] <= 9:\n",
    "        student2_class.append(0) #F\n",
    "    elif 10 <= student2.iloc[i][\"G3\"] <= 11:\n",
    "        student2_class.append(1) #D\n",
    "    elif 12 <= student2.iloc[i][\"G3\"] <= 13:\n",
    "        student2_class.append(2) #C\n",
    "    elif 14 <= student2.iloc[i][\"G3\"] <= 15:\n",
    "        student2_class.append(3) #B\n",
    "    elif 16 <= student2.iloc[i][\"G3\"] <= 20:\n",
    "        student2_class.append(4) #A\n",
    "    \n",
    "student_class = np.array(student_class)\n",
    "student2_class = np.array(student2_class)\n",
    "#pick two features: G1, G2\n",
    "student = student.loc[:,[\"G1\",\"G2\"]]\n",
    "student2 = student\n",
    "#re-train model (knn)\n",
    "X_train,X_test,Y_train,Y_test=model_selection.train_test_split(student,student_class,test_size=0.3)\n",
    "X2_train,X2_test,Y2_train,Y2_test=model_selection.train_test_split(student2,student2_class,test_size=0.3)\n",
    "\n",
    "print(\"\\nKNN (n=5):\")\n",
    "knn = KNeighborsClassifier(n_neighbors=5)\n",
    "knn = knn.fit(X_train,Y_train)\n",
    "prediction_knn = knn.predict(X_test)\n",
    "print(\"\\nconfusion matrix 1st(2 classes):\")\n",
    "print(confusion_matrix(Y_test, prediction_knn))\n",
    "kfold_class1(knn)\n",
    "\n",
    "knn2 = KNeighborsClassifier(n_neighbors=5)\n",
    "knn2 = knn2.fit(X2_train,Y2_train)\n",
    "prediction2_knn = knn2.predict(X2_test)\n",
    "print(\"\\nconfusion matrix 2nd(5 classes):\")\n",
    "print(confusion_matrix(Y2_test, prediction2_knn))\n",
    "kfold_class2(knn2)\n",
    "\n",
    "# Plot the decision boundary: class 1\n",
    "xx, yy = np.meshgrid(np.arange(-1, 21, 0.02),\n",
    "                     np.arange(-1, 21, 0.02))\n",
    "Z = knn.predict(np.c_[xx.ravel(), yy.ravel()])\n",
    "\n",
    "# Put the result into a color plot\n",
    "Z = Z.reshape(xx.shape)\n",
    "plt.figure()\n",
    "# Create color maps\n",
    "cmap_light = ListedColormap(['#FFAAAA', '#AAFFAA', '#AAAAFF'])\n",
    "cmap_bold = ListedColormap(['#FF0000', '#00FF00', '#0000FF'])\n",
    "plt.pcolormesh(xx, yy, Z, cmap=cmap_light)\n",
    "# Plot also the training points\n",
    "plt.scatter(student.iloc[:, 0], student.iloc[:, 1], c=student_class, cmap=cmap_bold)\n",
    "plt.xlim(xx.min(), xx.max())\n",
    "plt.ylim(yy.min(), yy.max())\n",
    "plt.show()\n",
    "\n",
    "# Plot the decision boundary: class 2\n",
    "xx, yy = np.meshgrid(np.arange(-1, 21, 0.02),\n",
    "                     np.arange(-1, 21, 0.02))\n",
    "Z = knn2.predict(np.c_[xx.ravel(), yy.ravel()])\n",
    "# Put the result into a color plot\n",
    "Z = Z.reshape(xx.shape)\n",
    "plt.figure()\n",
    "# Create color maps\n",
    "cmap_light = ListedColormap(['#FFAAAA', '#AAFFAA', '#AAAAFF','#AFAFAF','#FFFAAA'])\n",
    "cmap_bold = ListedColormap(['#FF0000', '#00FF00', '#0000FF','#0F0F0F','#FFF000'])\n",
    "plt.pcolormesh(xx, yy, Z, cmap=cmap_light)\n",
    "# Plot also the training points\n",
    "plt.scatter(student2.iloc[:, 0], student2.iloc[:, 1], c=student2_class, cmap=cmap_bold)\n",
    "plt.xlim(xx.min(), xx.max())\n",
    "plt.ylim(yy.min(), yy.max())\n",
    "plt.show()"
   ]
  },
  {
   "cell_type": "markdown",
   "metadata": {},
   "source": [
    "上圖紅色為fail,藍色為pass;下圖左下紅色到右上黃色分別為F,D,C,B,A。可以看到預測算是十分準確，除了有少數點預測錯誤(點顏色和背景色不一)。符合上方k-fold的accuracy(約90%,74%)。"
   ]
  },
  {
   "cell_type": "code",
   "execution_count": 37,
   "metadata": {},
   "outputs": [
    {
     "name": "stdout",
     "output_type": "stream",
     "text": [
      "1-sample (2 classes):\n",
      "[[10 13]]\n",
      "1-sample prediction:  [1]\n",
      "1-sample (5 classes):\n",
      "[[18 18]]\n",
      "1-sample prediction:  [4]\n"
     ]
    }
   ],
   "source": [
    "X_test=X_test.to_numpy()\n",
    "one_sample=X_test[0].reshape(1, -1)\n",
    "print(\"1-sample (2 classes):\")\n",
    "print(one_sample)\n",
    "prediction = knn.predict(one_sample)\n",
    "print(\"1-sample prediction: \",prediction)\n",
    "\n",
    "\n",
    "X2_test=X2_test.to_numpy()\n",
    "one_sample2=X2_test[0].reshape(1, -1)\n",
    "print(\"1-sample (5 classes):\")\n",
    "print(one_sample2)\n",
    "prediction2 = knn2.predict(one_sample2)\n",
    "print(\"1-sample prediction: \",prediction2)"
   ]
  },
  {
   "cell_type": "markdown",
   "metadata": {},
   "source": [
    "從X_test選一個sample出來train，選到[10 13]，對應上方的圖，可以看到是在藍色區塊，也就是pass(1);\n",
    "從X2_test一樣選一個，選到[18 18]，對應圖二，可以看到是在最右上方黃色區域，也就是A(4)。"
   ]
  }
 ],
 "metadata": {
  "kernelspec": {
   "display_name": "Python 3",
   "language": "python",
   "name": "python3"
  },
  "language_info": {
   "codemirror_mode": {
    "name": "ipython",
    "version": 3
   },
   "file_extension": ".py",
   "mimetype": "text/x-python",
   "name": "python",
   "nbconvert_exporter": "python",
   "pygments_lexer": "ipython3",
   "version": "3.7.3"
  }
 },
 "nbformat": 4,
 "nbformat_minor": 2
}
