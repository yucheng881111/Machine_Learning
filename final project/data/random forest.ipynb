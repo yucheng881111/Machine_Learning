{
 "cells": [
  {
   "cell_type": "code",
   "execution_count": 11,
   "metadata": {},
   "outputs": [
    {
     "name": "stderr",
     "output_type": "stream",
     "text": [
      "C:\\Users\\user\\Anaconda3\\lib\\site-packages\\pandas\\core\\ops.py:1649: FutureWarning: elementwise comparison failed; returning scalar instead, but in the future will perform elementwise comparison\n",
      "  result = method(y)\n",
      "C:\\Users\\user\\Anaconda3\\lib\\site-packages\\ipykernel_launcher.py:26: SettingWithCopyWarning: \n",
      "A value is trying to be set on a copy of a slice from a DataFrame.\n",
      "Try using .loc[row_indexer,col_indexer] = value instead\n",
      "\n",
      "See the caveats in the documentation: http://pandas.pydata.org/pandas-docs/stable/indexing.html#indexing-view-versus-copy\n"
     ]
    },
    {
     "name": "stdout",
     "output_type": "stream",
     "text": [
      "RandomForest with n=100:\n",
      "confusion matrix:\n",
      "     30      60     90     120    150    180   210   240  270  300  330  360\n",
      "30   0.0     0.0    2.0    0.0    0.0    0.0   0.0   0.0  0.0  0.0  0.0  0.0\n",
      "60   0.0  1508.0  507.0  111.0   18.0   22.0   1.0   0.0  1.0  0.0  0.0  0.0\n",
      "90   0.0   720.0  775.0  278.0  114.0  107.0  11.0   4.0  1.0  1.0  0.0  2.0\n",
      "120  0.0   169.0  313.0  234.0  148.0  158.0  24.0  20.0  7.0  2.0  0.0  2.0\n",
      "150  0.0    47.0  142.0  133.0  128.0  126.0   4.0   6.0  2.0  1.0  0.0  0.0\n",
      "180  0.0    46.0  110.0  166.0  138.0  192.0  18.0  17.0  4.0  7.0  1.0  3.0\n",
      "210  0.0     3.0   19.0   27.0   25.0   58.0  18.0   7.0  1.0  1.0  2.0  1.0\n",
      "240  0.0     2.0    9.0   16.0   18.0   46.0   7.0   5.0  2.0  2.0  0.0  1.0\n",
      "270  0.0     2.0    3.0    8.0    5.0   12.0   5.0   2.0  0.0  0.0  0.0  1.0\n",
      "300  0.0     0.0    3.0   11.0    3.0    9.0   3.0   0.0  0.0  0.0  0.0  0.0\n",
      "330  0.0     0.0    1.0    1.0    1.0    3.0   0.0   0.0  0.0  0.0  0.0  0.0\n",
      "360  0.0     0.0    6.0    3.0    5.0   11.0   1.0   1.0  0.0  0.0  0.0  0.0\n",
      "accuracy: 0.4132350816356018\n"
     ]
    }
   ],
   "source": [
    "import pandas as pd\n",
    "import numpy as np\n",
    "from sklearn import model_selection\n",
    "from sklearn.utils import shuffle\n",
    "from sklearn.metrics import confusion_matrix\n",
    "from sklearn.ensemble import RandomForestClassifier\n",
    "from sklearn.preprocessing import LabelEncoder\n",
    "from sklearn import tree  \n",
    "import matplotlib.pyplot as plt\n",
    "\n",
    "\n",
    "df = pd.read_csv('109.csv',index_col= 0, delimiter=',')\n",
    "df = shuffle(df)\n",
    "\n",
    "data = df.drop(columns=['main', 'text'])\n",
    "\n",
    "data = data[data[\"imprison\"] != \"Not Found\"]\n",
    "data = data[data[\"imprison\"] <= 360]\n",
    "data = data[data[\"judge\"] != \"Not Found\"]\n",
    "df1f = data.iloc[:, [0, 1, 4, 5, 6, 7]]\n",
    "df1t = data.iloc[:, 3]\n",
    "le = LabelEncoder()\n",
    "for i in df1f.columns:\n",
    "    if i in [\"again\"]:\n",
    "        continue\n",
    "    df1f[i] = le.fit_transform(df1f[i])\n",
    "\n",
    "X_train,X_test,Y_train,Y_test=model_selection.train_test_split(df1f,df1t,test_size=0.3)\n",
    "\n",
    "Y_test = Y_test.ravel()\n",
    "imprison = [30,60,90,120,150,180,210,240,270,300,330,360]\n",
    "dth2 = pd.DataFrame(np.zeros((12, 12)), index=imprison, columns=imprison)\n",
    "\n",
    "rf = RandomForestClassifier(n_estimators=100)\n",
    "rf = rf.fit(X_train,Y_train)\n",
    "prediction_rf = rf.predict(X_test)\n",
    "prediction_rf2 = rf.predict(X_train)\n",
    "for i in range(len(prediction_rf)):\n",
    "    dth2.loc[Y_test[i]][prediction_rf[i]] += 1\n",
    "\n",
    "print(\"RandomForest with n=100:\")\n",
    "print(\"confusion matrix:\")\n",
    "print(dth2)\n",
    "asum = 0\n",
    "for i in range(12):\n",
    "    asum += dth2.iloc[i,i]\n",
    "\n",
    "print(\"accuracy:\", (asum / len(prediction_rf)))\n",
    "\n",
    "\n"
   ]
  },
  {
   "cell_type": "code",
   "execution_count": null,
   "metadata": {},
   "outputs": [],
   "source": []
  },
  {
   "cell_type": "code",
   "execution_count": null,
   "metadata": {},
   "outputs": [],
   "source": []
  },
  {
   "cell_type": "code",
   "execution_count": null,
   "metadata": {},
   "outputs": [],
   "source": []
  },
  {
   "cell_type": "code",
   "execution_count": null,
   "metadata": {},
   "outputs": [],
   "source": []
  }
 ],
 "metadata": {
  "kernelspec": {
   "display_name": "Python 3",
   "language": "python",
   "name": "python3"
  },
  "language_info": {
   "codemirror_mode": {
    "name": "ipython",
    "version": 3
   },
   "file_extension": ".py",
   "mimetype": "text/x-python",
   "name": "python",
   "nbconvert_exporter": "python",
   "pygments_lexer": "ipython3",
   "version": "3.7.3"
  }
 },
 "nbformat": 4,
 "nbformat_minor": 2
}
